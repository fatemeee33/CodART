{
 "cells": [
  {
   "cell_type": "code",
   "execution_count": null,
   "id": "3841e914",
   "metadata": {
    "pycharm": {
     "name": "#%%\n"
    }
   },
   "outputs": [],
   "source": [
    "import pandas as pd\n",
    "from glob import glob\n",
    "import matplotlib.pyplot as plt \n",
    "from matplotlib.patches import Ellipse\n",
    "from sklearn.mixture import GaussianMixture\n",
    "import numpy as np\n",
    "import json"
   ]
  },
  {
   "cell_type": "code",
   "execution_count": null,
   "id": "61f7bb48",
   "metadata": {
    "pycharm": {
     "name": "#%%\n"
    }
   },
   "outputs": [],
   "source": [
    "class NpEncoder(json.JSONEncoder):\n",
    "    def default(self, obj):\n",
    "        if isinstance(obj, np.integer):\n",
    "            return int(obj)\n",
    "        if isinstance(obj, np.floating):\n",
    "            return float(obj)\n",
    "        if isinstance(obj, np.ndarray):\n",
    "            return obj.tolist()\n",
    "        return json.JSONEncoder.default(self, obj)"
   ]
  },
  {
   "cell_type": "code",
   "execution_count": null,
   "id": "9831114a",
   "metadata": {
    "pycharm": {
     "name": "#%%\n"
    }
   },
   "outputs": [],
   "source": [
    "def draw_ellipse(position, covariance, ax=None, **kwargs):\n",
    "    \"\"\"Draw an ellipse with a given position and covariance\"\"\"\n",
    "    ax = ax or plt.gca()\n",
    "    \n",
    "    # Convert covariance to principal axes\n",
    "    if covariance.shape == (2, 2):\n",
    "        U, s, Vt = np.linalg.svd(covariance)\n",
    "        angle = np.degrees(np.arctan2(U[1, 0], U[0, 0]))\n",
    "        width, height = 2 * np.sqrt(s)\n",
    "    else:\n",
    "        angle = 0\n",
    "        width, height = 2 * np.sqrt(covariance)\n",
    "    \n",
    "    # Draw the Ellipse\n",
    "    for nsig in range(1, 4):\n",
    "        ax.add_patch(Ellipse(position, nsig * width, nsig * height,\n",
    "                             angle, **kwargs))"
   ]
  },
  {
   "cell_type": "code",
   "execution_count": null,
   "id": "97c8831c",
   "metadata": {
    "pycharm": {
     "name": "#%%\n"
    }
   },
   "outputs": [],
   "source": [
    "def plot_gmm(gmm, X, label=True, ax=None):\n",
    "    ax = ax or plt.gca()\n",
    "    labels = gmm.fit(X).predict(X)\n",
    "    if label:\n",
    "        ax.scatter(X[:, 0], X[:, 1], c=labels, s=40, cmap='viridis', zorder=2)\n",
    "    else:\n",
    "        ax.scatter(X[:, 0], X[:, 1], s=40, zorder=2)\n",
    "    ax.axis('equal')\n",
    "    \n",
    "    w_factor = 0.2 / gmm.weights_.max()\n",
    "    for pos, covar, w in zip(gmm.means_, gmm.covars_, gmm.weights_):\n",
    "        draw_ellipse(pos, covar, alpha=w * w_factor)"
   ]
  },
  {
   "cell_type": "code",
   "execution_count": null,
   "id": "9ff3502d",
   "metadata": {
    "pycharm": {
     "name": "#%%\n"
    }
   },
   "outputs": [],
   "source": [
    "ram = {'MM': 'MoveMethod','PD':'PushDownMethod','PU':'PullUpMethod','EM':'ExtractMethod','IM':'InlineMethod'}\n",
    "rac = {'EC':'ExtractClass','MM': 'MoveMethod','PU': 'PullUpMethod','PD':'PushDownMethod'}\n",
    "files = glob(\"../gorgeous/Resources/refactoring_files/*.csv\")\n",
    "li = []\n",
    "for filename in files:\n",
    "    df = pd.read_csv(filename, header=None)\n",
    "    li.append(df)\n",
    "data = pd.concat(li, axis=0, ignore_index=True)"
   ]
  },
  {
   "cell_type": "code",
   "execution_count": null,
   "id": "eb094a8d",
   "metadata": {
    "pycharm": {
     "name": "#%%\n"
    }
   },
   "outputs": [],
   "source": [
    "\n",
    "\n",
    "#TODO METHODS\n",
    "dim = pd.read_csv(\"../gorgeous/Resources/csv_files/input_cluster/input_method.csv\")\n",
    "for item in data[0]:\n",
    "    try: \n",
    "        refactoring_type = item.split(\"(\")[0]\n",
    "        item = item.split(\"(\")[1].split(\",\")[0] + \"()\"\n",
    "        key = list(ram.keys())[list(ram.values()).index(refactoring_type)]\n",
    "        if (dim[\"Method\"] == item).any():\n",
    "            if key  == 'MM':\n",
    "                dim.update(pd.DataFrame(\n",
    "                {'Method': item, 'MM': dim.loc[dim['Method'] == item]['MM'] + 1, 'PU': dim.loc[dim['Method'] == item]['PU'],\n",
    "                 'PD': dim.loc[dim['Method'] == item]['PD'], 'EM': dim.loc[dim['Method'] == item]['EM'],\n",
    "                 'IM': dim.loc[dim['Method'] == item]['IM']}), ignore_index=True)\n",
    "            elif key == 'PU':\n",
    "                dim.update(pd.DataFrame(\n",
    "                    {'Method': item, 'MM': dim.loc[dim['Method'] == item]['MM'], 'PU': dim.loc[dim['Method'] == item]['PU'] + 1,\n",
    "                     'PD': dim.loc[dim['Method'] == item]['PD'], 'EM': dim.lom[dim['Method'] == item]['EM'],\n",
    "                     'IM': dim.loc[dim['Method'] == item]['IM']}), ignore_index=True)\n",
    "            elif key == 'PD':\n",
    "                dim.update(pd.DataFrame(\n",
    "                    {'Method': item, 'MM': dim.loc[dim['Method'] == item]['MM'], 'PU': dim.loc[dim['Method'] == item]['PU'],\n",
    "                     'PD': dim.loc[dim['Method'] == item]['PD'] + 1, 'EM': dim.loc[dim['Method'] == item]['EM'],\n",
    "                     'IM': dim.loc[dim['Method'] == item]['IM']}), ignore_index=True)\n",
    "            elif key == 'EM':\n",
    "                dim.update(pd.DataFrame(\n",
    "                    {'Method': item, 'MM': dim.loc[dim['Method'] == item]['MM'], 'PU': dim.loc[dim['Method'] == item]['PU'],\n",
    "                     'PD': dim.loc[dim['Method'] == item]['PD'], 'EM': dim.loc[dim['Method'] == item]['EM'] + 1,\n",
    "                     'IM': dim.loc[dim['Method'] == item]['IM']}), ignore_index=True)\n",
    "            elif key == 'IM':\n",
    "                dim.update(pd.DataFrame(\n",
    "                    {'Method': item, 'MM': dim.loc[dim['Method'] == item]['MM'], 'PU': dim.loc[dim['Method'] == item]['PU'],\n",
    "                     'PD': dim.loc[dim['Method'] == item]['PD'], 'EM': dim.loc[dim['Method'] == item]['EM'],\n",
    "                     'IM': dim.loc[dim['Method'] == item]['IM'] + 1}), ignore_index=True)\n",
    "        else :\n",
    "            if key  == 'MM':\n",
    "                dim = dim.append({'Method':item,'MM': 1,'PU': 0,'PD': 0,'EM': 0,'IM': 0}, ignore_index=True)\n",
    "            elif key  == 'PU':\n",
    "                dim = dim.append({'Method':item,'MM': 0,'PU': 1,'PD': 0,'EM': 0,'IM': 0}, ignore_index=True)\n",
    "            elif key  == 'PD':\n",
    "                dim = dim.append({'Method':item,'MM': 0,'PU': 0,'PD': 1,'EM': 0,'IM': 0}, ignore_index=True)\n",
    "            elif key  == 'EM':\n",
    "                dim = dim.append({'Method':item,'MM': 0,'PU': 0,'PD': 0,'EM': 1,'IM': 0}, ignore_index=True)\n",
    "            elif key  == 'IM':\n",
    "                dim = dim.append({'Method':item,'MM': 0,'PU': 0,'PD': 0,'EM': 0,'IM': 1}, ignore_index=True)\n",
    "    except:\n",
    "        continue\n",
    "\n",
    "dim.to_csv(\"../gorgeous/Resources/csv_files/input_cluster/input_method.csv\", encoding='utf-8', index=False)\n",
    "dim"
   ]
  },
  {
   "cell_type": "code",
   "execution_count": null,
   "id": "c9733189",
   "metadata": {
    "pycharm": {
     "name": "#%%\n"
    }
   },
   "outputs": [],
   "source": [
    "dic = pd.read_csv(\"../gorgeous/Resources/csv_files/input_cluster/input_class.csv\")\n",
    "for item in data[0]:\n",
    "    try: \n",
    "        refactoring_type = item.split(\"(\")[0]\n",
    "        key = list(rac.keys())[list(rac.values()).index(refactoring_type)]\n",
    "        \n",
    "        if key == \"EC\":\n",
    "            item = item.split(\"(\")[1].split(\",\")[0]\n",
    "        else:\n",
    "            item = item.split(\"(\")[1].split(\",\")[0]\n",
    "            temp = item.split(\".\")\n",
    "            item = item.replace(\".\"+temp[len(temp)-1], \"\")\n",
    "        item = item.replace(\")\", \"\")\n",
    "        \n",
    "        if (dic[\"Class\"] == item).any():\n",
    "            if key  == 'EC':\n",
    "                dic.update(pd.DataFrame({'Class': item, 'EC': dic.loc[dic['Class'] == item]['EC'] + 1,'MM': dic.loc[dic['Class'] == item]['MM'],'PU': dic.loc[dic['Class'] == item]['PU'],'PD': dic.loc[dic['Class'] == item]['PD']}))\n",
    "            elif key  == 'MM':\n",
    "                dic.update(pd.DataFrame({'Class': item, 'EC': dic.loc[dic['Class'] == item]['EC'],'MM': dic.loc[dic['Class'] == item]['MM']+1,'PU': dic.loc[dic['Class'] == item]['PU'],'PD': dic.loc[dic['Class'] == item]['PD']}))\n",
    "            elif key  == 'PU':\n",
    "                dic.update(pd.DataFrame({'Class': item, 'EC': dic.loc[dic['Class'] == item]['EC'],'MM': dic.loc[dic['Class'] == item]['MM'],'PU': dic.loc[dic['Class'] == item]['PU'] + 1,'PD': dic.loc[dic['Class'] == item]['PD']}))\n",
    "            elif key  == 'PD':\n",
    "                dic.update(pd.DataFrame({'Class': item, 'EC': dic.loc[dic['Class'] == item]['EC'],'MM': dic.loc[dic['Class'] == item]['MM'],'PU': dic.loc[dic['Class'] == item]['PU'],'PD': dic.loc[dic['Class'] == item]['PD']+1}))\n",
    "        else :\n",
    "            \n",
    "            if key  == 'EC':\n",
    "                dic = dic.append({'Class':item,'EC': 1,'MM': 0,'PU': 0,'PD': 0}, ignore_index=True)\n",
    "            elif key  == 'MM':\n",
    "                dic = dic.append({'Class':item,'EC': 0,'MM': 1,'PU': 0,'PD': 0}, ignore_index=True)\n",
    "            elif key  == 'PU':\n",
    "                dic = dic.append({'Class':item,'EC': 0,'MM': 0,'PU': 1,'PD': 0}, ignore_index=True)\n",
    "            elif key  == 'PD':\n",
    "                dic = dic.append({'Class':item,'EC': 0,'MM': 0,'PU': 0,'PD': 1}, ignore_index=True)\n",
    "    except Exception as e:\n",
    "#         print(\"ERROR : \", e)\n",
    "        continue\n",
    "dic.to_csv(\"../gorgeous/Resources/csv_files/input_cluster/input_class.csv\", encoding='utf-8', index=False)\n",
    "dic"
   ]
  },
  {
   "cell_type": "code",
   "execution_count": null,
   "id": "5d8bc587",
   "metadata": {
    "pycharm": {
     "name": "#%%\n"
    }
   },
   "outputs": [],
   "source": [
    "# read metrics\n",
    "\n",
    "files = glob(\"../gorgeous/Resources/csv_files/metrics/*.csv\")\n",
    "li = []\n",
    "for filename in files:\n",
    "    df = pd.read_csv(filename)\n",
    "    li.append(df)\n",
    "data_metrics = pd.concat(li, axis=0, ignore_index=True)\n",
    "data_metrics[\"Name\"] = data_metrics[\"Name\"].str.replace('\"', '')\n",
    "data_metrics = data_metrics[:][:]\n",
    "data_metrics_class = data_metrics[data_metrics[\"Kind\"].str.contains(\"Class\") == True]\n",
    "data_metrics_method = data_metrics[data_metrics[\"Kind\"].str.contains(\"Method\") == True]\n",
    "data_metrics_method"
   ]
  },
  {
   "cell_type": "code",
   "execution_count": null,
   "id": "4c48bf7d",
   "metadata": {
    "pycharm": {
     "name": "#%%\n"
    }
   },
   "outputs": [],
   "source": [
    "X = dic.iloc[:, 1:5]\n",
    "Y = dim.iloc[:, 1:6]\n",
    "d = pd.DataFrame(X)\n",
    "c = pd.DataFrame(Y)\n",
    "\n",
    "model = GaussianMixture(n_components=2, covariance_type='full', max_iter=100, n_init=1, init_params='kmeans', verbose=0, random_state=1)\n",
    "\n",
    "# Fit the model and predict labels\n",
    "clust = model.fit(d)\n",
    "labels= model.predict(d)\n",
    "my_class_dict = []\n",
    "for i, item in enumerate(np.unique(labels)):\n",
    "    a = dic[labels == item]\n",
    "    a = data_metrics_class[data_metrics_class['Name'].isin(a['Class'])]\n",
    "    my_class_dict.append({\"CountClassBase\":{\"MAX\":int(a.CountClassBase.max()), \"MIN\":int(a.CountClassBase.min())},\n",
    "                         \"CountClassCoupled\":{\"MAX\":int(a.CountClassCoupled.max()), \"MIN\":int(a.CountClassCoupled.min())},\n",
    "                          \"CountClassDerived\":{\"MAX\":int(a.CountClassDerived.max()), \"MIN\":int(a.CountClassDerived.min())},\n",
    "                          \"CountDeclMethod\":{\"MAX\":int(a.CountDeclMethod.max()), \"MIN\":int(a.CountDeclMethod.min())},\n",
    "                         \"CountDeclMethodAll\":{\"MAX\":int(a.CountDeclMethodAll.max()), \"MIN\":int(a.CountDeclMethodAll.min())},\n",
    "                         \"CountLineCode\":{\"MAX\":int(a.CountLineCode.max()), \"MIN\":int(a.CountLineCode.min())},\n",
    "                         \"CountLineComment\":{\"MAX\":int(a.CountLineComment.max()), \"MIN\":int(a.CountLineComment.min())},\n",
    "                         \"MaxInheritanceTree\":{\"MAX\":int(a.MaxInheritanceTree.max()), \"MIN\":int(a.MaxInheritanceTree.min())},\n",
    "                          \"Class\":a[\"Name\"].tolist()\n",
    "                         \n",
    "                         }\n",
    "                        )\n",
    "\n",
    "#     my_class_dict = {i:{}}\n",
    "\n",
    "model = GaussianMixture(n_components=6, covariance_type='full', max_iter=100, n_init=1, init_params='kmeans', verbose=0, random_state=1)\n",
    "\n",
    "# Fit the model and predict labels\n",
    "clust = model.fit(c)\n",
    "labels1 = model.predict(c)\n",
    "my_method_dict = []\n",
    "for i, item in enumerate(np.unique(labels1)):\n",
    "    a = dim[labels1 == item]\n",
    "    data_metrics_method['Name'] = data_metrics_method['Name'].astype(str)+ \"()\"\n",
    "    a = data_metrics_method[data_metrics_method['Name'].isin(a['Method'])]\n",
    "    try:\n",
    "        b0 = int(a.CountLineCode.max())\n",
    "        b1 = int(a.CountLineCode.min())\n",
    "        b2 = int(a.CountLineComment.max())\n",
    "        b3 = int(a.CountLineComment.min())\n",
    "    except :\n",
    "        b0 = 0\n",
    "        b1 = 0\n",
    "        b2 = 0\n",
    "        b3 = 0\n",
    "    \n",
    "    my_method_dict.append({\n",
    "                         \"CountLineCode\":{\"MAX\":b0, \"MIN\": b1},\n",
    "                         \"CountLineComment\":{\"MAX\":b2, \"MIN\":b3},\n",
    "                            \"Methods\":a[\"Name\"].tolist()\n",
    "                        }\n",
    "                        )\n",
    "\n",
    "    \n",
    "with open('../gorgeous/Resources/json_files/class_cluster.json', 'w') as fp:\n",
    "    json.dump(my_class_dict, fp)\n",
    "    \n",
    "with open('../gorgeous/Resources/json_files/method_cluster.json', 'w') as fp:\n",
    "    json.dump(my_method_dict, fp)"
   ]
  },
  {
   "cell_type": "code",
   "execution_count": null,
   "id": "9ffe8cef",
   "metadata": {
    "pycharm": {
     "name": "#%%\n"
    }
   },
   "outputs": [],
   "source": []
  },
  {
   "cell_type": "code",
   "execution_count": null,
   "id": "66c7c7f0",
   "metadata": {
    "pycharm": {
     "name": "#%%\n"
    }
   },
   "outputs": [],
   "source": []
  },
  {
   "cell_type": "code",
   "execution_count": null,
   "id": "4840a197",
   "metadata": {
    "pycharm": {
     "name": "#%%\n"
    }
   },
   "outputs": [],
   "source": []
  }
 ],
 "metadata": {
  "kernelspec": {
   "display_name": "Python 3 (ipykernel)",
   "language": "python",
   "name": "python3"
  },
  "language_info": {
   "codemirror_mode": {
    "name": "ipython",
    "version": 3
   },
   "file_extension": ".py",
   "mimetype": "text/x-python",
   "name": "python",
   "nbconvert_exporter": "python",
   "pygments_lexer": "ipython3",
   "version": "3.10.6"
  }
 },
 "nbformat": 4,
 "nbformat_minor": 5
}